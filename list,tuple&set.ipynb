{
 "cells": [
  {
   "cell_type": "code",
   "execution_count": 2,
   "id": "03a9b571-f95c-4a60-afdd-3406eced3905",
   "metadata": {},
   "outputs": [],
   "source": [
    "l=[12,.23,3+6j,\"ram\"]"
   ]
  },
  {
   "cell_type": "code",
   "execution_count": 3,
   "id": "1cede1d9-7402-4985-a3de-98d54b5ff3dd",
   "metadata": {},
   "outputs": [
    {
     "data": {
      "text/plain": [
       "list"
      ]
     },
     "execution_count": 3,
     "metadata": {},
     "output_type": "execute_result"
    }
   ],
   "source": [
    "type(l)"
   ]
  },
  {
   "cell_type": "code",
   "execution_count": 4,
   "id": "d5d8df1a-af61-48ef-a9f1-7c05b3baf30c",
   "metadata": {},
   "outputs": [],
   "source": [
    "s=\"inueron\""
   ]
  },
  {
   "cell_type": "code",
   "execution_count": 5,
   "id": "0ba0eac4-5d1f-4ffa-a81f-dc2771453f46",
   "metadata": {},
   "outputs": [
    {
     "data": {
      "text/plain": [
       "str"
      ]
     },
     "execution_count": 5,
     "metadata": {},
     "output_type": "execute_result"
    }
   ],
   "source": [
    "type(s)"
   ]
  },
  {
   "cell_type": "markdown",
   "id": "d5ba3e3e-1526-4fd8-93ad-da2d434df6f7",
   "metadata": {},
   "source": [
    "# can we add list + str ?\n",
    "## let's try"
   ]
  },
  {
   "cell_type": "code",
   "execution_count": 6,
   "id": "7b4f2162-590d-4c63-aec4-6eb3817168c1",
   "metadata": {},
   "outputs": [
    {
     "ename": "TypeError",
     "evalue": "can only concatenate list (not \"str\") to list",
     "output_type": "error",
     "traceback": [
      "\u001b[0;31m---------------------------------------------------------------------------\u001b[0m",
      "\u001b[0;31mTypeError\u001b[0m                                 Traceback (most recent call last)",
      "Cell \u001b[0;32mIn [6], line 1\u001b[0m\n\u001b[0;32m----> 1\u001b[0m \u001b[43ml\u001b[49m\u001b[38;5;241;43m+\u001b[39;49m\u001b[43ms\u001b[49m\n",
      "\u001b[0;31mTypeError\u001b[0m: can only concatenate list (not \"str\") to list"
     ]
    }
   ],
   "source": [
    "l+s"
   ]
  },
  {
   "cell_type": "markdown",
   "id": "e1d2dbbc-247a-47df-aba1-f79106ba29d9",
   "metadata": {},
   "source": [
    "## No, it is not possible for that we have to first convert str into list and then we can add them together\n",
    "## let's try"
   ]
  },
  {
   "cell_type": "code",
   "execution_count": 7,
   "id": "a486a3a6-ecff-49d5-ac7e-17801cff0ce9",
   "metadata": {},
   "outputs": [],
   "source": [
    "x=list(s)"
   ]
  },
  {
   "cell_type": "code",
   "execution_count": 8,
   "id": "921b07f0-a266-4761-950a-94120b796be0",
   "metadata": {},
   "outputs": [
    {
     "data": {
      "text/plain": [
       "list"
      ]
     },
     "execution_count": 8,
     "metadata": {},
     "output_type": "execute_result"
    }
   ],
   "source": [
    "type(x) # s\"\" is converted into list and reassigned into \"x\""
   ]
  },
  {
   "cell_type": "code",
   "execution_count": 9,
   "id": "1eeeb2c4-a5b2-4e02-88d2-de305d98413a",
   "metadata": {},
   "outputs": [
    {
     "data": {
      "text/plain": [
       "[12, 0.23, (3+6j), 'ram', 'i', 'n', 'u', 'e', 'r', 'o', 'n']"
      ]
     },
     "execution_count": 9,
     "metadata": {},
     "output_type": "execute_result"
    }
   ],
   "source": [
    "l+x"
   ]
  },
  {
   "cell_type": "markdown",
   "id": "ab334708-57f5-4436-ba92-3ecd39441e2c",
   "metadata": {},
   "source": [
    "# but while adding them together \"x\" is also broken \n",
    "# how can we add item in list with out breaking it"
   ]
  },
  {
   "cell_type": "code",
   "execution_count": 10,
   "id": "605ed9a1-53d4-4e7b-ab1e-193b331f9a9c",
   "metadata": {},
   "outputs": [],
   "source": [
    "# first let's make more lists\n",
    "l1=[1,2,5+4j,\"sita\"]"
   ]
  },
  {
   "cell_type": "code",
   "execution_count": 11,
   "id": "a35f5a8a-c432-45ab-acd5-416e6737630d",
   "metadata": {},
   "outputs": [
    {
     "data": {
      "text/plain": [
       "list"
      ]
     },
     "execution_count": 11,
     "metadata": {},
     "output_type": "execute_result"
    }
   ],
   "source": [
    "type(l1)"
   ]
  },
  {
   "cell_type": "markdown",
   "id": "8e0869a4-3116-497c-857f-f2f27c3be855",
   "metadata": {},
   "source": [
    "# functions\n",
    "## .append"
   ]
  },
  {
   "cell_type": "code",
   "execution_count": 14,
   "id": "601cbb1a-a73d-4277-963e-586164a7c07d",
   "metadata": {},
   "outputs": [],
   "source": [
    "l.append(l1)"
   ]
  },
  {
   "cell_type": "code",
   "execution_count": 16,
   "id": "d0a47266-b7aa-422c-86f5-7247c76d5779",
   "metadata": {},
   "outputs": [
    {
     "data": {
      "text/plain": [
       "[12, 0.23, (3+6j), 'ram', [1, 2, (5+4j), 'sita']]"
      ]
     },
     "execution_count": 16,
     "metadata": {},
     "output_type": "execute_result"
    }
   ],
   "source": [
    "l"
   ]
  },
  {
   "cell_type": "code",
   "execution_count": 17,
   "id": "488923b7-e14a-4a5c-bc3c-312b800430f9",
   "metadata": {},
   "outputs": [],
   "source": [
    "str1=\"human\""
   ]
  },
  {
   "cell_type": "code",
   "execution_count": 18,
   "id": "6cccb0a9-8ac1-4639-87f0-e99d35cc69b4",
   "metadata": {},
   "outputs": [
    {
     "data": {
      "text/plain": [
       "str"
      ]
     },
     "execution_count": 18,
     "metadata": {},
     "output_type": "execute_result"
    }
   ],
   "source": [
    "type(str1)"
   ]
  },
  {
   "cell_type": "code",
   "execution_count": 19,
   "id": "66243e9d-1be9-4581-bc09-f86530b336c6",
   "metadata": {},
   "outputs": [],
   "source": [
    "#can we add str with append function\n",
    "# let's try"
   ]
  },
  {
   "cell_type": "code",
   "execution_count": 20,
   "id": "6a27e75d-061f-4dfd-9e13-fb856c0542ed",
   "metadata": {},
   "outputs": [
    {
     "data": {
      "text/plain": [
       "[12, 0.23, (3+6j), 'ram', [1, 2, (5+4j), 'sita']]"
      ]
     },
     "execution_count": 20,
     "metadata": {},
     "output_type": "execute_result"
    }
   ],
   "source": [
    "l"
   ]
  },
  {
   "cell_type": "code",
   "execution_count": 21,
   "id": "92b3deca-95f6-4d92-be05-6646c74c211e",
   "metadata": {},
   "outputs": [],
   "source": [
    "l.append(str1)"
   ]
  },
  {
   "cell_type": "code",
   "execution_count": 22,
   "id": "d983acbb-5716-4323-a3a9-de0c12d0f915",
   "metadata": {},
   "outputs": [
    {
     "data": {
      "text/plain": [
       "[12, 0.23, (3+6j), 'ram', [1, 2, (5+4j), 'sita'], 'human']"
      ]
     },
     "execution_count": 22,
     "metadata": {},
     "output_type": "execute_result"
    }
   ],
   "source": [
    "l"
   ]
  },
  {
   "cell_type": "code",
   "execution_count": 23,
   "id": "a1197cb3-b2c8-4fef-b83f-d1d1f28c6ad1",
   "metadata": {},
   "outputs": [],
   "source": [
    "# yes, we can add str with append function with out breaking the word\n",
    "#can we add int\n",
    "# let's try"
   ]
  },
  {
   "cell_type": "code",
   "execution_count": 24,
   "id": "cebce34b-0fc7-4317-877c-437d1a43f947",
   "metadata": {},
   "outputs": [],
   "source": [
    "int1= 24"
   ]
  },
  {
   "cell_type": "code",
   "execution_count": 25,
   "id": "bc109790-d73f-476d-a014-b8f1011d9c4a",
   "metadata": {},
   "outputs": [],
   "source": [
    "l.append(int1)"
   ]
  },
  {
   "cell_type": "code",
   "execution_count": 26,
   "id": "b0ec8b5a-faaa-40eb-b346-445bd72fc042",
   "metadata": {},
   "outputs": [
    {
     "data": {
      "text/plain": [
       "[12, 0.23, (3+6j), 'ram', [1, 2, (5+4j), 'sita'], 'human', 24]"
      ]
     },
     "execution_count": 26,
     "metadata": {},
     "output_type": "execute_result"
    }
   ],
   "source": [
    "l"
   ]
  },
  {
   "cell_type": "code",
   "execution_count": 27,
   "id": "5fdb5e72-c31a-492e-b7d7-acc7301a5666",
   "metadata": {},
   "outputs": [],
   "source": [
    "# what about complex no.\n",
    "#let's try"
   ]
  },
  {
   "cell_type": "code",
   "execution_count": 28,
   "id": "6b833feb-ab82-412c-8218-6811a636521b",
   "metadata": {},
   "outputs": [],
   "source": [
    "com1=3+2j"
   ]
  },
  {
   "cell_type": "code",
   "execution_count": 29,
   "id": "ea2cf6d6-c4b1-4aa7-add6-a8884a738473",
   "metadata": {},
   "outputs": [
    {
     "data": {
      "text/plain": [
       "complex"
      ]
     },
     "execution_count": 29,
     "metadata": {},
     "output_type": "execute_result"
    }
   ],
   "source": [
    "type(com1)"
   ]
  },
  {
   "cell_type": "code",
   "execution_count": 30,
   "id": "6211a840-7e31-4895-b8e2-531a9cb98d64",
   "metadata": {},
   "outputs": [],
   "source": [
    "l.append(com1)"
   ]
  },
  {
   "cell_type": "code",
   "execution_count": 31,
   "id": "a1480a0f-f2c3-4c89-93c8-79e40cde8c71",
   "metadata": {},
   "outputs": [
    {
     "data": {
      "text/plain": [
       "[12, 0.23, (3+6j), 'ram', [1, 2, (5+4j), 'sita'], 'human', 24, (3+2j)]"
      ]
     },
     "execution_count": 31,
     "metadata": {},
     "output_type": "execute_result"
    }
   ],
   "source": [
    "l"
   ]
  },
  {
   "cell_type": "code",
   "execution_count": 32,
   "id": "4e61f210-c6de-41a0-86b0-83c3143f63aa",
   "metadata": {},
   "outputs": [],
   "source": [
    "# now we have learn how to add item into a list \n",
    "# but is there only appen function?\n",
    "# no, we can also use extend and insert to add items\n",
    "# let's try"
   ]
  },
  {
   "cell_type": "markdown",
   "id": "9d399e97-74ef-49e3-8c21-ec3e9e624d8e",
   "metadata": {},
   "source": [
    "## extend"
   ]
  },
  {
   "cell_type": "code",
   "execution_count": 33,
   "id": "a69ed423-64e0-48a0-b9a0-972af9d1386f",
   "metadata": {},
   "outputs": [
    {
     "data": {
      "text/plain": [
       "[12, 0.23, (3+6j), 'ram', [1, 2, (5+4j), 'sita'], 'human', 24, (3+2j)]"
      ]
     },
     "execution_count": 33,
     "metadata": {},
     "output_type": "execute_result"
    }
   ],
   "source": [
    "#this is our list to begin with\n",
    "l"
   ]
  },
  {
   "cell_type": "code",
   "execution_count": 39,
   "id": "97ae6bab-a1a4-4d8f-ba64-2d78879ba49e",
   "metadata": {},
   "outputs": [],
   "source": [
    "str2= \"for\""
   ]
  },
  {
   "cell_type": "code",
   "execution_count": 49,
   "id": "73a14943-c08a-4075-b615-9a7cb562fc16",
   "metadata": {},
   "outputs": [
    {
     "data": {
      "text/plain": [
       "str"
      ]
     },
     "execution_count": 49,
     "metadata": {},
     "output_type": "execute_result"
    }
   ],
   "source": [
    "type(str2)"
   ]
  },
  {
   "cell_type": "code",
   "execution_count": 41,
   "id": "c2e3abb3-e78e-46f0-95d5-50148cc9b0c3",
   "metadata": {},
   "outputs": [],
   "source": [
    "l.extend(str2)"
   ]
  },
  {
   "cell_type": "code",
   "execution_count": 42,
   "id": "da06923e-710a-4e48-b425-a77ee1102a47",
   "metadata": {},
   "outputs": [
    {
     "data": {
      "text/plain": [
       "[12,\n",
       " 0.23,\n",
       " (3+6j),\n",
       " 'ram',\n",
       " [1, 2, (5+4j), 'sita'],\n",
       " 'human',\n",
       " 24,\n",
       " (3+2j),\n",
       " 'f',\n",
       " 'o',\n",
       " 'r']"
      ]
     },
     "execution_count": 42,
     "metadata": {},
     "output_type": "execute_result"
    }
   ],
   "source": [
    "l"
   ]
  },
  {
   "cell_type": "code",
   "execution_count": null,
   "id": "039e78f6-6f7c-4327-b604-52d2232c05e1",
   "metadata": {},
   "outputs": [],
   "source": []
  },
  {
   "cell_type": "markdown",
   "id": "7e25a589-80fa-45a3-9ae9-1c5cd6dc1bf2",
   "metadata": {},
   "source": [
    "## Insert"
   ]
  },
  {
   "cell_type": "code",
   "execution_count": 43,
   "id": "e2323419-c743-41eb-83f3-dfb8234c6bf2",
   "metadata": {},
   "outputs": [
    {
     "data": {
      "text/plain": [
       "[12,\n",
       " 0.23,\n",
       " (3+6j),\n",
       " 'ram',\n",
       " [1, 2, (5+4j), 'sita'],\n",
       " 'human',\n",
       " 24,\n",
       " (3+2j),\n",
       " 'f',\n",
       " 'o',\n",
       " 'r']"
      ]
     },
     "execution_count": 43,
     "metadata": {},
     "output_type": "execute_result"
    }
   ],
   "source": [
    "# this is our list to begin with\n",
    "l"
   ]
  },
  {
   "cell_type": "code",
   "execution_count": 55,
   "id": "0408dd6f-f3c3-4eac-9265-daaa15d815b5",
   "metadata": {},
   "outputs": [
    {
     "data": {
      "text/plain": [
       "str"
      ]
     },
     "execution_count": 55,
     "metadata": {},
     "output_type": "execute_result"
    }
   ],
   "source": [
    "# assigning values to variables\n",
    "str3 = \"rocket\"\n",
    "int2=23\n",
    "comp2=3+5j\n",
    "bool1=True\n"
   ]
  },
  {
   "cell_type": "code",
   "execution_count": 56,
   "id": "1a282ff6-9f78-4d99-8f08-e78592d647b6",
   "metadata": {},
   "outputs": [
    {
     "data": {
      "text/plain": [
       "str"
      ]
     },
     "execution_count": 56,
     "metadata": {},
     "output_type": "execute_result"
    }
   ],
   "source": [
    "# check type of variables\n",
    "type(str3)"
   ]
  },
  {
   "cell_type": "code",
   "execution_count": 57,
   "id": "735511a0-9d1d-40f0-9075-57ee6ff40704",
   "metadata": {},
   "outputs": [],
   "source": [
    "l.insert(0,str3) # it will be added to 0th index in the list"
   ]
  },
  {
   "cell_type": "code",
   "execution_count": 58,
   "id": "51828e3c-daa8-415d-b4e6-a276777b2d11",
   "metadata": {},
   "outputs": [
    {
     "data": {
      "text/plain": [
       "['rocket',\n",
       " 12,\n",
       " 0.23,\n",
       " (3+6j),\n",
       " 'ram',\n",
       " [1, 2, (5+4j), 'sita'],\n",
       " 'human',\n",
       " 24,\n",
       " (3+2j),\n",
       " 'f',\n",
       " 'o',\n",
       " 'r']"
      ]
     },
     "execution_count": 58,
     "metadata": {},
     "output_type": "execute_result"
    }
   ],
   "source": [
    "l"
   ]
  },
  {
   "cell_type": "code",
   "execution_count": 59,
   "id": "118b353f-ff6f-4c89-95b1-8d8797eff7d0",
   "metadata": {},
   "outputs": [],
   "source": [
    "l.insert(-1,int2)"
   ]
  },
  {
   "cell_type": "code",
   "execution_count": 60,
   "id": "21c35d9b-38cc-42b1-8858-c71424d96efc",
   "metadata": {},
   "outputs": [
    {
     "data": {
      "text/plain": [
       "['rocket',\n",
       " 12,\n",
       " 0.23,\n",
       " (3+6j),\n",
       " 'ram',\n",
       " [1, 2, (5+4j), 'sita'],\n",
       " 'human',\n",
       " 24,\n",
       " (3+2j),\n",
       " 'f',\n",
       " 'o',\n",
       " 23,\n",
       " 'r']"
      ]
     },
     "execution_count": 60,
     "metadata": {},
     "output_type": "execute_result"
    }
   ],
   "source": [
    "l"
   ]
  },
  {
   "cell_type": "code",
   "execution_count": 61,
   "id": "a5540a3a-8621-405e-b392-008705600d34",
   "metadata": {},
   "outputs": [],
   "source": [
    "l.insert(5,comp2)"
   ]
  },
  {
   "cell_type": "code",
   "execution_count": 62,
   "id": "854218bb-a18c-4706-b153-597f6b1440d1",
   "metadata": {},
   "outputs": [
    {
     "data": {
      "text/plain": [
       "['rocket',\n",
       " 12,\n",
       " 0.23,\n",
       " (3+6j),\n",
       " 'ram',\n",
       " (3+5j),\n",
       " [1, 2, (5+4j), 'sita'],\n",
       " 'human',\n",
       " 24,\n",
       " (3+2j),\n",
       " 'f',\n",
       " 'o',\n",
       " 23,\n",
       " 'r']"
      ]
     },
     "execution_count": 62,
     "metadata": {},
     "output_type": "execute_result"
    }
   ],
   "source": [
    "l"
   ]
  },
  {
   "cell_type": "code",
   "execution_count": 63,
   "id": "d8674bfb-72bf-4c81-a116-e528f31b5928",
   "metadata": {},
   "outputs": [],
   "source": [
    "l.insert(-4,bool1)"
   ]
  },
  {
   "cell_type": "code",
   "execution_count": 64,
   "id": "805ff5d8-c641-4067-b13e-36655b0eeea8",
   "metadata": {},
   "outputs": [
    {
     "data": {
      "text/plain": [
       "['rocket',\n",
       " 12,\n",
       " 0.23,\n",
       " (3+6j),\n",
       " 'ram',\n",
       " (3+5j),\n",
       " [1, 2, (5+4j), 'sita'],\n",
       " 'human',\n",
       " 24,\n",
       " (3+2j),\n",
       " True,\n",
       " 'f',\n",
       " 'o',\n",
       " 23,\n",
       " 'r']"
      ]
     },
     "execution_count": 64,
     "metadata": {},
     "output_type": "execute_result"
    }
   ],
   "source": [
    "l"
   ]
  },
  {
   "cell_type": "markdown",
   "id": "22a7db4d-fd7d-41bb-9b49-de0000f3a1d4",
   "metadata": {},
   "source": [
    "# now we have learnt how to add items into list.\n",
    "# but how to take them out at your own will\n",
    "# let's try!"
   ]
  },
  {
   "cell_type": "code",
   "execution_count": 65,
   "id": "b0b0dd2a-5872-4027-bff5-dd785f6ba3ac",
   "metadata": {},
   "outputs": [
    {
     "data": {
      "text/plain": [
       "['rocket',\n",
       " 12,\n",
       " 0.23,\n",
       " (3+6j),\n",
       " 'ram',\n",
       " (3+5j),\n",
       " [1, 2, (5+4j), 'sita'],\n",
       " 'human',\n",
       " 24,\n",
       " (3+2j),\n",
       " True,\n",
       " 'f',\n",
       " 'o',\n",
       " 23,\n",
       " 'r']"
      ]
     },
     "execution_count": 65,
     "metadata": {},
     "output_type": "execute_result"
    }
   ],
   "source": [
    "# this is our list to begin with\n",
    "l"
   ]
  },
  {
   "cell_type": "code",
   "execution_count": 66,
   "id": "66771af8-e7c4-4567-baea-58151404fcfc",
   "metadata": {},
   "outputs": [],
   "source": [
    "# to remove we have \"pop\" and \"remove\""
   ]
  },
  {
   "cell_type": "code",
   "execution_count": 67,
   "id": "1a8fa076-e288-4785-a6ea-07da17626efb",
   "metadata": {},
   "outputs": [
    {
     "data": {
      "text/plain": [
       "23"
      ]
     },
     "execution_count": 67,
     "metadata": {},
     "output_type": "execute_result"
    }
   ],
   "source": [
    "l.pop(-2) # here we will use indexes in pop fn to remove item form list"
   ]
  },
  {
   "cell_type": "code",
   "execution_count": 68,
   "id": "f18e7b19-d2fb-4244-9071-43cd0eacaa6b",
   "metadata": {},
   "outputs": [
    {
     "data": {
      "text/plain": [
       "['rocket',\n",
       " 12,\n",
       " 0.23,\n",
       " (3+6j),\n",
       " 'ram',\n",
       " (3+5j),\n",
       " [1, 2, (5+4j), 'sita'],\n",
       " 'human',\n",
       " 24,\n",
       " (3+2j),\n",
       " True,\n",
       " 'f',\n",
       " 'o',\n",
       " 'r']"
      ]
     },
     "execution_count": 68,
     "metadata": {},
     "output_type": "execute_result"
    }
   ],
   "source": [
    "l   # 23 is remove whose index is \"-2\""
   ]
  },
  {
   "cell_type": "code",
   "execution_count": 69,
   "id": "73ddfadf-fca3-40cd-b066-93447bc9cdbb",
   "metadata": {},
   "outputs": [
    {
     "data": {
      "text/plain": [
       "['rocket',\n",
       " 12,\n",
       " 0.23,\n",
       " (3+6j),\n",
       " 'ram',\n",
       " (3+5j),\n",
       " [1, 2, (5+4j), 'sita'],\n",
       " 'human',\n",
       " 24,\n",
       " (3+2j),\n",
       " True,\n",
       " 'f',\n",
       " 'o',\n",
       " 'r']"
      ]
     },
     "execution_count": 69,
     "metadata": {},
     "output_type": "execute_result"
    }
   ],
   "source": [
    "# now this is our new list where 23 is removed\n",
    "l"
   ]
  },
  {
   "cell_type": "code",
   "execution_count": 70,
   "id": "ec658db0-ef39-4ac8-a24a-e52bb8a81997",
   "metadata": {},
   "outputs": [
    {
     "data": {
      "text/plain": [
       "'r'"
      ]
     },
     "execution_count": 70,
     "metadata": {},
     "output_type": "execute_result"
    }
   ],
   "source": [
    "# again pop fn\n",
    "l.pop(-1)"
   ]
  },
  {
   "cell_type": "code",
   "execution_count": 71,
   "id": "0991a126-b29d-4fbb-951f-2a7cb1b40f21",
   "metadata": {},
   "outputs": [
    {
     "data": {
      "text/plain": [
       "['rocket',\n",
       " 12,\n",
       " 0.23,\n",
       " (3+6j),\n",
       " 'ram',\n",
       " (3+5j),\n",
       " [1, 2, (5+4j), 'sita'],\n",
       " 'human',\n",
       " 24,\n",
       " (3+2j),\n",
       " True,\n",
       " 'f',\n",
       " 'o']"
      ]
     },
     "execution_count": 71,
     "metadata": {},
     "output_type": "execute_result"
    }
   ],
   "source": [
    "l"
   ]
  },
  {
   "cell_type": "code",
   "execution_count": 72,
   "id": "9840eece-44e3-4c3b-8d86-15cb1f96f0bc",
   "metadata": {},
   "outputs": [
    {
     "data": {
      "text/plain": [
       "'o'"
      ]
     },
     "execution_count": 72,
     "metadata": {},
     "output_type": "execute_result"
    }
   ],
   "source": [
    "#again\n",
    "l.pop(-1)"
   ]
  },
  {
   "cell_type": "code",
   "execution_count": 73,
   "id": "29ae0394-3af1-4e0d-9c4c-12845b0a3a7a",
   "metadata": {},
   "outputs": [
    {
     "data": {
      "text/plain": [
       "['rocket',\n",
       " 12,\n",
       " 0.23,\n",
       " (3+6j),\n",
       " 'ram',\n",
       " (3+5j),\n",
       " [1, 2, (5+4j), 'sita'],\n",
       " 'human',\n",
       " 24,\n",
       " (3+2j),\n",
       " True,\n",
       " 'f']"
      ]
     },
     "execution_count": 73,
     "metadata": {},
     "output_type": "execute_result"
    }
   ],
   "source": [
    "l"
   ]
  },
  {
   "cell_type": "code",
   "execution_count": 79,
   "id": "03ba41db-9a8a-4a82-8260-c299ab47b43a",
   "metadata": {},
   "outputs": [
    {
     "data": {
      "text/plain": [
       "24"
      ]
     },
     "execution_count": 79,
     "metadata": {},
     "output_type": "execute_result"
    }
   ],
   "source": [
    "# again\n",
    "l.pop(-1)"
   ]
  },
  {
   "cell_type": "code",
   "execution_count": 80,
   "id": "ebeb7531-8a5d-44a5-885e-2d836027aa6f",
   "metadata": {},
   "outputs": [
    {
     "data": {
      "text/plain": [
       "['rocket', 12, 0.23, (3+6j), 'ram', (3+5j), [1, 2, (5+4j), 'sita'], 'human']"
      ]
     },
     "execution_count": 80,
     "metadata": {},
     "output_type": "execute_result"
    }
   ],
   "source": [
    "l"
   ]
  },
  {
   "cell_type": "markdown",
   "id": "d4a71326-e4e0-479f-ada6-034cba84029a",
   "metadata": {},
   "source": [
    "## remove"
   ]
  },
  {
   "cell_type": "code",
   "execution_count": 81,
   "id": "ad4069ff-820a-464e-8d0d-607fbb9573b1",
   "metadata": {},
   "outputs": [
    {
     "data": {
      "text/plain": [
       "['rocket', 12, 0.23, (3+6j), 'ram', (3+5j), [1, 2, (5+4j), 'sita'], 'human']"
      ]
     },
     "execution_count": 81,
     "metadata": {},
     "output_type": "execute_result"
    }
   ],
   "source": [
    "# list to begin with\n",
    "l"
   ]
  },
  {
   "cell_type": "code",
   "execution_count": 82,
   "id": "6a7f15b4-9307-467e-91f4-494a2e657031",
   "metadata": {},
   "outputs": [],
   "source": [
    "l.remove(0.23)    # here we will provide particular values/item from the list "
   ]
  },
  {
   "cell_type": "code",
   "execution_count": 83,
   "id": "3e7ede62-f26e-4dee-9def-6aa3d6af4253",
   "metadata": {},
   "outputs": [
    {
     "data": {
      "text/plain": [
       "['rocket', 12, (3+6j), 'ram', (3+5j), [1, 2, (5+4j), 'sita'], 'human']"
      ]
     },
     "execution_count": 83,
     "metadata": {},
     "output_type": "execute_result"
    }
   ],
   "source": [
    "l    # 0.23 is removed  , simple huh!"
   ]
  },
  {
   "cell_type": "markdown",
   "id": "e7eb913b-b6fb-439a-818b-b69bb505f82c",
   "metadata": {},
   "source": [
    "# how to manipulate list"
   ]
  },
  {
   "cell_type": "code",
   "execution_count": 84,
   "id": "46641354-8ad1-4b4d-b55a-d98935741787",
   "metadata": {},
   "outputs": [
    {
     "data": {
      "text/plain": [
       "['rocket', 12, (3+6j), 'ram', (3+5j), [1, 2, (5+4j), 'sita'], 'human']"
      ]
     },
     "execution_count": 84,
     "metadata": {},
     "output_type": "execute_result"
    }
   ],
   "source": [
    "# list to begin with\n",
    "l"
   ]
  },
  {
   "cell_type": "code",
   "execution_count": 86,
   "id": "0c470992-2074-4197-850c-bcdd950c5069",
   "metadata": {},
   "outputs": [
    {
     "name": "stdout",
     "output_type": "stream",
     "text": [
      "here is--> human\n"
     ]
    }
   ],
   "source": [
    "# if i want human from list\n",
    "l[-1]\n",
    "print(\"here is-->\",l[-1])"
   ]
  },
  {
   "cell_type": "code",
   "execution_count": 87,
   "id": "40d4c65c-9a16-4dfb-a92b-3c379c17b64a",
   "metadata": {},
   "outputs": [
    {
     "data": {
      "text/plain": [
       "'h'"
      ]
     },
     "execution_count": 87,
     "metadata": {},
     "output_type": "execute_result"
    }
   ],
   "source": [
    "# what if i want h from human\n",
    "#let's try!\n",
    "l[-1]  # [-1] will give us human\n",
    "l[-1][0]   #[0] will give us h"
   ]
  },
  {
   "cell_type": "code",
   "execution_count": 88,
   "id": "ab9ce9e1-3dca-48a9-a2b0-bd60c9a066e8",
   "metadata": {},
   "outputs": [
    {
     "data": {
      "text/plain": [
       "[1, 2, (5+4j), 'sita']"
      ]
     },
     "execution_count": 88,
     "metadata": {},
     "output_type": "execute_result"
    }
   ],
   "source": [
    "# what if i want l1 that we added earlier?\n",
    "l[-2]"
   ]
  },
  {
   "cell_type": "code",
   "execution_count": 90,
   "id": "ebb44eba-e886-456e-b1e2-3865b7ca287e",
   "metadata": {},
   "outputs": [
    {
     "data": {
      "text/plain": [
       "5.0"
      ]
     },
     "execution_count": 90,
     "metadata": {},
     "output_type": "execute_result"
    }
   ],
   "source": [
    "# i want real no. of complex no.\n",
    "l[-2] # it will give us list within list\n",
    "l[-2][2].real"
   ]
  },
  {
   "cell_type": "code",
   "execution_count": 91,
   "id": "e2eae7dc-4f28-4251-a2a9-4cacc22523ba",
   "metadata": {},
   "outputs": [],
   "source": [
    "# how to convert float into int\n",
    "# to make it easier we will reassigned this value \n",
    "z=l[-2][2].real"
   ]
  },
  {
   "cell_type": "code",
   "execution_count": 92,
   "id": "c242139c-1fe8-48c6-9da6-93bb274587ce",
   "metadata": {},
   "outputs": [
    {
     "data": {
      "text/plain": [
       "float"
      ]
     },
     "execution_count": 92,
     "metadata": {},
     "output_type": "execute_result"
    }
   ],
   "source": [
    "type(z)"
   ]
  },
  {
   "cell_type": "code",
   "execution_count": 94,
   "id": "71f6ff9b-8982-49f8-b120-788b9e4615ca",
   "metadata": {},
   "outputs": [
    {
     "data": {
      "text/plain": [
       "int"
      ]
     },
     "execution_count": 94,
     "metadata": {},
     "output_type": "execute_result"
    }
   ],
   "source": [
    "# conversion\n",
    "z=int(l[-2][2].real)\n",
    "type(z)"
   ]
  },
  {
   "cell_type": "markdown",
   "id": "8396fa49-370d-43f1-8d12-4387d451b6ff",
   "metadata": {},
   "source": [
    "# tuples: tuples are also type of list but list has \"[ ]\" and tuple has \"( )\""
   ]
  },
  {
   "cell_type": "code",
   "execution_count": 96,
   "id": "a34cbfdd-bfc5-414d-a4b8-bfeff7d53b81",
   "metadata": {},
   "outputs": [],
   "source": [
    "# this is our tuple on which we will work\n",
    "t=(67,\"srk\",(1,2,3),['rocket', 12, (3+6j), 'ram', (3+5j), [1, 2, (5+4j), 'sita'], 'human'],.34)"
   ]
  },
  {
   "cell_type": "code",
   "execution_count": 97,
   "id": "cb4c590f-6496-4cdf-bba1-f7ce2a8950ee",
   "metadata": {},
   "outputs": [
    {
     "data": {
      "text/plain": [
       "tuple"
      ]
     },
     "execution_count": 97,
     "metadata": {},
     "output_type": "execute_result"
    }
   ],
   "source": [
    "type(t)"
   ]
  },
  {
   "cell_type": "code",
   "execution_count": 98,
   "id": "049d775b-08ea-43e1-9b53-1984b258a6b2",
   "metadata": {},
   "outputs": [
    {
     "ename": "TypeError",
     "evalue": "can only concatenate tuple (not \"list\") to tuple",
     "output_type": "error",
     "traceback": [
      "\u001b[0;31m---------------------------------------------------------------------------\u001b[0m",
      "\u001b[0;31mTypeError\u001b[0m                                 Traceback (most recent call last)",
      "Cell \u001b[0;32mIn [98], line 2\u001b[0m\n\u001b[1;32m      1\u001b[0m \u001b[38;5;66;03m# how to add in tuple\u001b[39;00m\n\u001b[0;32m----> 2\u001b[0m \u001b[43mt\u001b[49m\u001b[38;5;241;43m+\u001b[39;49m\u001b[43ml\u001b[49m\n",
      "\u001b[0;31mTypeError\u001b[0m: can only concatenate tuple (not \"list\") to tuple"
     ]
    }
   ],
   "source": [
    "# can we add tuple and list\n",
    "t+l\n",
    "# no, because they are of different type\n",
    "# in order to add them we have to convert them"
   ]
  },
  {
   "cell_type": "code",
   "execution_count": 99,
   "id": "77ca27b6-ee02-4ac2-af98-b31886cf6c59",
   "metadata": {},
   "outputs": [
    {
     "data": {
      "text/plain": [
       "tuple"
      ]
     },
     "execution_count": 99,
     "metadata": {},
     "output_type": "execute_result"
    }
   ],
   "source": [
    "r=tuple(l)\n",
    "type(r)"
   ]
  },
  {
   "cell_type": "code",
   "execution_count": 100,
   "id": "48cb07ce-79cf-44f2-9e8b-6b5c8328e014",
   "metadata": {},
   "outputs": [
    {
     "data": {
      "text/plain": [
       "(67,\n",
       " 'srk',\n",
       " (1, 2, 3),\n",
       " ['rocket', 12, (3+6j), 'ram', (3+5j), [1, 2, (5+4j), 'sita'], 'human'],\n",
       " 0.34,\n",
       " 'rocket',\n",
       " 12,\n",
       " (3+6j),\n",
       " 'ram',\n",
       " (3+5j),\n",
       " [1, 2, (5+4j), 'sita'],\n",
       " 'human')"
      ]
     },
     "execution_count": 100,
     "metadata": {},
     "output_type": "execute_result"
    }
   ],
   "source": [
    "t+r"
   ]
  },
  {
   "cell_type": "markdown",
   "id": "b3df01c2-c705-471f-961e-fe2dfa935098",
   "metadata": {},
   "source": [
    "# functions:\n",
    "## append, extend & insert"
   ]
  },
  {
   "cell_type": "code",
   "execution_count": 101,
   "id": "48cec6fe-dd05-4d03-ba5e-b48cedd5f010",
   "metadata": {},
   "outputs": [
    {
     "data": {
      "text/plain": [
       "(67,\n",
       " 'srk',\n",
       " (1, 2, 3),\n",
       " ['rocket', 12, (3+6j), 'ram', (3+5j), [1, 2, (5+4j), 'sita'], 'human'],\n",
       " 0.34)"
      ]
     },
     "execution_count": 101,
     "metadata": {},
     "output_type": "execute_result"
    }
   ],
   "source": [
    "# tuple to begin with\n",
    "t"
   ]
  },
  {
   "cell_type": "code",
   "execution_count": 109,
   "id": "91e6e521-483c-4aa7-bcd7-c931ec7f9836",
   "metadata": {},
   "outputs": [
    {
     "data": {
      "text/plain": [
       "45"
      ]
     },
     "execution_count": 109,
     "metadata": {},
     "output_type": "execute_result"
    }
   ],
   "source": [
    "str4= \"hero\"\n",
    "int3=45\n",
    "bool2=True\n",
    "int4=-3"
   ]
  },
  {
   "cell_type": "code",
   "execution_count": 112,
   "id": "7f1279ca-9a70-4343-a94d-b6ae1393841a",
   "metadata": {},
   "outputs": [
    {
     "data": {
      "text/plain": [
       "str"
      ]
     },
     "execution_count": 112,
     "metadata": {},
     "output_type": "execute_result"
    }
   ],
   "source": [
    "# check type\n",
    "type(str4)"
   ]
  },
  {
   "cell_type": "markdown",
   "id": "03447ef0-2161-4214-a349-51a1e9dccd45",
   "metadata": {},
   "source": [
    "# append\n"
   ]
  },
  {
   "cell_type": "code",
   "execution_count": 113,
   "id": "2b7b3ea5-612e-4257-9e5c-40ec297c3bba",
   "metadata": {},
   "outputs": [
    {
     "ename": "AttributeError",
     "evalue": "'tuple' object has no attribute 'append'",
     "output_type": "error",
     "traceback": [
      "\u001b[0;31m---------------------------------------------------------------------------\u001b[0m",
      "\u001b[0;31mAttributeError\u001b[0m                            Traceback (most recent call last)",
      "Cell \u001b[0;32mIn [113], line 1\u001b[0m\n\u001b[0;32m----> 1\u001b[0m \u001b[43mt\u001b[49m\u001b[38;5;241;43m.\u001b[39;49m\u001b[43mappend\u001b[49m(str4)\n",
      "\u001b[0;31mAttributeError\u001b[0m: 'tuple' object has no attribute 'append'"
     ]
    }
   ],
   "source": [
    "t.append(str4)"
   ]
  },
  {
   "cell_type": "code",
   "execution_count": 114,
   "id": "188221a3-87b1-4104-9aa6-962b7da460dd",
   "metadata": {},
   "outputs": [
    {
     "ename": "AttributeError",
     "evalue": "'tuple' object has no attribute 'extend'",
     "output_type": "error",
     "traceback": [
      "\u001b[0;31m---------------------------------------------------------------------------\u001b[0m",
      "\u001b[0;31mAttributeError\u001b[0m                            Traceback (most recent call last)",
      "Cell \u001b[0;32mIn [114], line 1\u001b[0m\n\u001b[0;32m----> 1\u001b[0m \u001b[43mt\u001b[49m\u001b[38;5;241;43m.\u001b[39;49m\u001b[43mextend\u001b[49m(str4)\n",
      "\u001b[0;31mAttributeError\u001b[0m: 'tuple' object has no attribute 'extend'"
     ]
    }
   ],
   "source": [
    "t.extend(str4)"
   ]
  },
  {
   "cell_type": "code",
   "execution_count": 115,
   "id": "b2a56844-23dd-42a1-8aab-d0ac770bac5f",
   "metadata": {},
   "outputs": [
    {
     "ename": "AttributeError",
     "evalue": "'tuple' object has no attribute 'insert'",
     "output_type": "error",
     "traceback": [
      "\u001b[0;31m---------------------------------------------------------------------------\u001b[0m",
      "\u001b[0;31mAttributeError\u001b[0m                            Traceback (most recent call last)",
      "Cell \u001b[0;32mIn [115], line 1\u001b[0m\n\u001b[0;32m----> 1\u001b[0m \u001b[43mt\u001b[49m\u001b[38;5;241;43m.\u001b[39;49m\u001b[43minsert\u001b[49m(\u001b[38;5;241m1\u001b[39m,str4)\n",
      "\u001b[0;31mAttributeError\u001b[0m: 'tuple' object has no attribute 'insert'"
     ]
    }
   ],
   "source": [
    "t.insert(1,str4)"
   ]
  },
  {
   "cell_type": "markdown",
   "id": "b037f5af-66e9-4170-a4fd-3bb6317fc25f",
   "metadata": {},
   "source": [
    "# we can not use append in tuple because tuple is imutable so, in order to add item first we have to \n",
    "# convert into list -> add items -> convert back to tuple"
   ]
  },
  {
   "cell_type": "code",
   "execution_count": 116,
   "id": "35c066df-16ad-47f8-8ae9-21d1c9624a4b",
   "metadata": {},
   "outputs": [],
   "source": [
    "T=list(t)"
   ]
  },
  {
   "cell_type": "code",
   "execution_count": 117,
   "id": "56958274-e30a-4a77-ae3f-141f6f3d8c0b",
   "metadata": {},
   "outputs": [
    {
     "data": {
      "text/plain": [
       "list"
      ]
     },
     "execution_count": 117,
     "metadata": {},
     "output_type": "execute_result"
    }
   ],
   "source": [
    "type (T)"
   ]
  },
  {
   "cell_type": "code",
   "execution_count": 118,
   "id": "8fa0f032-7b63-43d0-990c-a3a568cb53b0",
   "metadata": {},
   "outputs": [],
   "source": [
    "T.append(int3)"
   ]
  },
  {
   "cell_type": "code",
   "execution_count": 120,
   "id": "9ac01abc-e595-45e0-9074-097429d108a7",
   "metadata": {},
   "outputs": [
    {
     "data": {
      "text/plain": [
       "[67,\n",
       " 'srk',\n",
       " (1, 2, 3),\n",
       " ['rocket', 12, (3+6j), 'ram', (3+5j), [1, 2, (5+4j), 'sita'], 'human'],\n",
       " 0.34,\n",
       " 45]"
      ]
     },
     "execution_count": 120,
     "metadata": {},
     "output_type": "execute_result"
    }
   ],
   "source": [
    "T # int3=45 added to the last"
   ]
  },
  {
   "cell_type": "code",
   "execution_count": 121,
   "id": "eb212831-26cd-4f4b-af22-ae9d8f14a903",
   "metadata": {},
   "outputs": [],
   "source": [
    "T.extend(str4)"
   ]
  },
  {
   "cell_type": "code",
   "execution_count": 122,
   "id": "6906a326-5654-4cd8-8459-a94d942587d6",
   "metadata": {},
   "outputs": [
    {
     "data": {
      "text/plain": [
       "[67,\n",
       " 'srk',\n",
       " (1, 2, 3),\n",
       " ['rocket', 12, (3+6j), 'ram', (3+5j), [1, 2, (5+4j), 'sita'], 'human'],\n",
       " 0.34,\n",
       " 45,\n",
       " 'h',\n",
       " 'e',\n",
       " 'r',\n",
       " 'o']"
      ]
     },
     "execution_count": 122,
     "metadata": {},
     "output_type": "execute_result"
    }
   ],
   "source": [
    "T   # str4=hero is added to the last but broken"
   ]
  },
  {
   "cell_type": "code",
   "execution_count": 123,
   "id": "358ba93f-9a96-45ff-bf87-a1c4ed4b5fa7",
   "metadata": {},
   "outputs": [],
   "source": [
    "T.insert(-4,bool2)"
   ]
  },
  {
   "cell_type": "code",
   "execution_count": 124,
   "id": "49f4f9f8-877c-4ef6-b6d2-092e5491b74d",
   "metadata": {},
   "outputs": [
    {
     "data": {
      "text/plain": [
       "[67,\n",
       " 'srk',\n",
       " (1, 2, 3),\n",
       " ['rocket', 12, (3+6j), 'ram', (3+5j), [1, 2, (5+4j), 'sita'], 'human'],\n",
       " 0.34,\n",
       " 45,\n",
       " True,\n",
       " 'h',\n",
       " 'e',\n",
       " 'r',\n",
       " 'o']"
      ]
     },
     "execution_count": 124,
     "metadata": {},
     "output_type": "execute_result"
    }
   ],
   "source": [
    "T"
   ]
  },
  {
   "cell_type": "code",
   "execution_count": 129,
   "id": "adb13fe0-af62-4071-8bda-22b2ff844ade",
   "metadata": {},
   "outputs": [],
   "source": [
    "T.insert(2,int4)"
   ]
  },
  {
   "cell_type": "code",
   "execution_count": 130,
   "id": "f5b4e76f-d65e-46d8-b575-73c84920b3de",
   "metadata": {},
   "outputs": [
    {
     "data": {
      "text/plain": [
       "[67,\n",
       " 'srk',\n",
       " -3,\n",
       " (1, 2, 3),\n",
       " ['rocket', 12, (3+6j), 'ram', (3+5j), [1, 2, (5+4j), 'sita'], 'human'],\n",
       " 0.34,\n",
       " 45,\n",
       " True,\n",
       " 'h',\n",
       " 'e',\n",
       " 'r',\n",
       " 'o']"
      ]
     },
     "execution_count": 130,
     "metadata": {},
     "output_type": "execute_result"
    }
   ],
   "source": [
    "T"
   ]
  },
  {
   "cell_type": "markdown",
   "id": "26d5b3b4-26c3-4cc2-95c1-ad37493c6367",
   "metadata": {},
   "source": [
    "# how to remove items"
   ]
  },
  {
   "cell_type": "code",
   "execution_count": 131,
   "id": "e0ee2e79-6e2d-49b7-a2df-d7a730d6ca5e",
   "metadata": {},
   "outputs": [
    {
     "data": {
      "text/plain": [
       "[67,\n",
       " 'srk',\n",
       " -3,\n",
       " (1, 2, 3),\n",
       " ['rocket', 12, (3+6j), 'ram', (3+5j), [1, 2, (5+4j), 'sita'], 'human'],\n",
       " 0.34,\n",
       " 45,\n",
       " True,\n",
       " 'h',\n",
       " 'e',\n",
       " 'r',\n",
       " 'o']"
      ]
     },
     "execution_count": 131,
     "metadata": {},
     "output_type": "execute_result"
    }
   ],
   "source": [
    "# here we are working with tuple which is converted into list to work on \n",
    "# as you all have already known tuple is imutable and can not be manipulated\n",
    "T"
   ]
  },
  {
   "cell_type": "code",
   "execution_count": 132,
   "id": "40ee4566-a194-402d-9715-56696f5a917f",
   "metadata": {},
   "outputs": [
    {
     "data": {
      "text/plain": [
       "-3"
      ]
     },
     "execution_count": 132,
     "metadata": {},
     "output_type": "execute_result"
    }
   ],
   "source": [
    "T.pop(2)"
   ]
  },
  {
   "cell_type": "code",
   "execution_count": 133,
   "id": "ebd9af17-dd1b-4209-9508-10f1f9d5db91",
   "metadata": {},
   "outputs": [
    {
     "data": {
      "text/plain": [
       "[67,\n",
       " 'srk',\n",
       " (1, 2, 3),\n",
       " ['rocket', 12, (3+6j), 'ram', (3+5j), [1, 2, (5+4j), 'sita'], 'human'],\n",
       " 0.34,\n",
       " 45,\n",
       " True,\n",
       " 'h',\n",
       " 'e',\n",
       " 'r',\n",
       " 'o']"
      ]
     },
     "execution_count": 133,
     "metadata": {},
     "output_type": "execute_result"
    }
   ],
   "source": [
    "T"
   ]
  },
  {
   "cell_type": "code",
   "execution_count": 135,
   "id": "5868f0f0-c6d3-46c6-96f0-1ab886ba31b6",
   "metadata": {},
   "outputs": [],
   "source": [
    "T.remove(45)"
   ]
  },
  {
   "cell_type": "code",
   "execution_count": 136,
   "id": "a83f92e4-08e9-43dc-aad9-c8052f75fa26",
   "metadata": {},
   "outputs": [
    {
     "data": {
      "text/plain": [
       "[67,\n",
       " 'srk',\n",
       " (1, 2, 3),\n",
       " ['rocket', 12, (3+6j), 'ram', (3+5j), [1, 2, (5+4j), 'sita'], 'human'],\n",
       " 0.34,\n",
       " True,\n",
       " 'h',\n",
       " 'e',\n",
       " 'r',\n",
       " 'o']"
      ]
     },
     "execution_count": 136,
     "metadata": {},
     "output_type": "execute_result"
    }
   ],
   "source": [
    "T"
   ]
  },
  {
   "cell_type": "code",
   "execution_count": 138,
   "id": "c1b24f6a-e36a-4a2c-b1b6-d8d1cb671853",
   "metadata": {},
   "outputs": [],
   "source": [
    "T.remove(\"h\")"
   ]
  },
  {
   "cell_type": "code",
   "execution_count": 139,
   "id": "d38a4cb2-6acf-46c5-8a70-eef69921c1db",
   "metadata": {},
   "outputs": [],
   "source": [
    "T.remove(\"e\")"
   ]
  },
  {
   "cell_type": "code",
   "execution_count": 140,
   "id": "7befbf9a-4c2c-4a0e-a1fd-75d774a07940",
   "metadata": {},
   "outputs": [],
   "source": [
    "T.remove(\"r\")"
   ]
  },
  {
   "cell_type": "code",
   "execution_count": 141,
   "id": "006dbc60-4dea-4ad6-91c6-f493a386e7dd",
   "metadata": {},
   "outputs": [],
   "source": [
    "T.remove(\"o\")"
   ]
  },
  {
   "cell_type": "code",
   "execution_count": 142,
   "id": "3ff886db-d6ce-4c9e-88f1-e901d1b7e400",
   "metadata": {},
   "outputs": [
    {
     "data": {
      "text/plain": [
       "[67,\n",
       " 'srk',\n",
       " (1, 2, 3),\n",
       " ['rocket', 12, (3+6j), 'ram', (3+5j), [1, 2, (5+4j), 'sita'], 'human'],\n",
       " 0.34,\n",
       " True]"
      ]
     },
     "execution_count": 142,
     "metadata": {},
     "output_type": "execute_result"
    }
   ],
   "source": [
    "T"
   ]
  },
  {
   "cell_type": "markdown",
   "id": "9c531916-6628-4061-b70d-f8fb27e24ff8",
   "metadata": {},
   "source": [
    "## manipulation"
   ]
  },
  {
   "cell_type": "code",
   "execution_count": 145,
   "id": "4c1d5ab2-607a-47f3-94c2-f88393fc04aa",
   "metadata": {},
   "outputs": [
    {
     "data": {
      "text/plain": [
       "67"
      ]
     },
     "execution_count": 145,
     "metadata": {},
     "output_type": "execute_result"
    }
   ],
   "source": [
    "T[0]"
   ]
  },
  {
   "cell_type": "code",
   "execution_count": 146,
   "id": "9e3806a9-9b6e-4401-9ff2-8788cf635d5c",
   "metadata": {},
   "outputs": [
    {
     "data": {
      "text/plain": [
       "3.0"
      ]
     },
     "execution_count": 146,
     "metadata": {},
     "output_type": "execute_result"
    }
   ],
   "source": [
    "T[3][2].real"
   ]
  },
  {
   "cell_type": "code",
   "execution_count": 147,
   "id": "87a9cad1-2866-48c8-b47f-dbd978e6ec2d",
   "metadata": {},
   "outputs": [],
   "source": [
    "A=tuple(T)"
   ]
  },
  {
   "cell_type": "code",
   "execution_count": 148,
   "id": "f7b0a9e6-aa5d-4b51-9713-5003109a8cad",
   "metadata": {},
   "outputs": [
    {
     "data": {
      "text/plain": [
       "tuple"
      ]
     },
     "execution_count": 148,
     "metadata": {},
     "output_type": "execute_result"
    }
   ],
   "source": [
    "type(A)"
   ]
  },
  {
   "cell_type": "code",
   "execution_count": 149,
   "id": "fbe48d98-2739-4e01-9d3c-eb95cdd3c79e",
   "metadata": {},
   "outputs": [
    {
     "data": {
      "text/plain": [
       "(67,\n",
       " 'srk',\n",
       " (1, 2, 3),\n",
       " ['rocket', 12, (3+6j), 'ram', (3+5j), [1, 2, (5+4j), 'sita'], 'human'],\n",
       " 0.34,\n",
       " True)"
      ]
     },
     "execution_count": 149,
     "metadata": {},
     "output_type": "execute_result"
    }
   ],
   "source": [
    "A"
   ]
  },
  {
   "cell_type": "markdown",
   "id": "28cb8778-e27a-4ac9-8ea8-016744756706",
   "metadata": {},
   "source": [
    "# SET :\n",
    "## Set is one of 4 built-in data types in Python used to store collections of data"
   ]
  },
  {
   "cell_type": "code",
   "execution_count": 69,
   "id": "2a361862-34fd-4f95-91ed-ee0c0e02c08a",
   "metadata": {},
   "outputs": [],
   "source": [
    "s={}"
   ]
  },
  {
   "cell_type": "code",
   "execution_count": 70,
   "id": "20089bf3-6a54-4682-8a41-4640fb5785db",
   "metadata": {},
   "outputs": [
    {
     "data": {
      "text/plain": [
       "dict"
      ]
     },
     "execution_count": 70,
     "metadata": {},
     "output_type": "execute_result"
    }
   ],
   "source": [
    "type(s) # here type of 's' is showing dict because there is no items inside the set\n",
    "        # set only take formal value"
   ]
  },
  {
   "cell_type": "code",
   "execution_count": 93,
   "id": "cfd5a3e7-556e-411e-8921-4a5f1302091b",
   "metadata": {},
   "outputs": [],
   "source": [
    "s={1,2,3,4,1,2,3,4,1,2,3,4,1,2,3,4,\"ram\",\"sham\",\"sita\",\"gita\",\"ram\",\"sham\",\"sita\",\"gita\"}"
   ]
  },
  {
   "cell_type": "code",
   "execution_count": 95,
   "id": "5cc40f05-59c2-4676-929a-2bd603a8eae1",
   "metadata": {},
   "outputs": [
    {
     "data": {
      "text/plain": [
       "{1, 2, 3, 4, 'gita', 'ram', 'sham', 'sita'}"
      ]
     },
     "execution_count": 95,
     "metadata": {},
     "output_type": "execute_result"
    }
   ],
   "source": [
    "s"
   ]
  },
  {
   "cell_type": "code",
   "execution_count": 87,
   "id": "379ba458-40b9-43b8-b6d7-98fb6160b121",
   "metadata": {},
   "outputs": [],
   "source": [
    " # it give all the unique value inside the set\n"
   ]
  },
  {
   "cell_type": "code",
   "execution_count": 96,
   "id": "098b9578-dfc4-420c-8fcb-1b76dbcdeb68",
   "metadata": {},
   "outputs": [],
   "source": [
    "s.add(\"hero\")"
   ]
  },
  {
   "cell_type": "code",
   "execution_count": 97,
   "id": "6dbf5343-cf49-4da1-89ce-7f78185aa74f",
   "metadata": {},
   "outputs": [
    {
     "data": {
      "text/plain": [
       "{1, 2, 3, 4, 'gita', 'hero', 'ram', 'sham', 'sita'}"
      ]
     },
     "execution_count": 97,
     "metadata": {},
     "output_type": "execute_result"
    }
   ],
   "source": [
    "s"
   ]
  },
  {
   "cell_type": "code",
   "execution_count": 99,
   "id": "d850faab-99b3-406b-9fab-ce835c713a35",
   "metadata": {},
   "outputs": [],
   "source": [
    "s.discard(\"gita\")"
   ]
  },
  {
   "cell_type": "code",
   "execution_count": 100,
   "id": "d1e8b207-9dc2-4a01-addd-8761dd247a90",
   "metadata": {},
   "outputs": [
    {
     "data": {
      "text/plain": [
       "{1, 2, 3, 4, 'hero', 'ram', 'sham', 'sita'}"
      ]
     },
     "execution_count": 100,
     "metadata": {},
     "output_type": "execute_result"
    }
   ],
   "source": [
    "s"
   ]
  },
  {
   "cell_type": "markdown",
   "id": "1316ef0a-bba6-42e9-827c-84f7b22d33c8",
   "metadata": {},
   "source": [
    "# dictionary"
   ]
  },
  {
   "cell_type": "code",
   "execution_count": 108,
   "id": "38359a83-8c2d-4030-a2e6-3d0303cda1f6",
   "metadata": {},
   "outputs": [],
   "source": [
    "dict1={\"a\":\"math\",\"b\":\"english\",\"c\":\"history\",\"d\":\"[67,'srk',(1, 2, 3),['rocket', 12, (3+6j), 'ram', (3+5j), [1, 2, (5+4j), 'sita'], 'human'],0.34,True]\"}"
   ]
  },
  {
   "cell_type": "code",
   "execution_count": 109,
   "id": "bf93c238-a896-49f5-a88f-03a7d6276ea2",
   "metadata": {},
   "outputs": [
    {
     "data": {
      "text/plain": [
       "dict"
      ]
     },
     "execution_count": 109,
     "metadata": {},
     "output_type": "execute_result"
    }
   ],
   "source": [
    "type(dict1)"
   ]
  },
  {
   "cell_type": "code",
   "execution_count": 111,
   "id": "d67422de-3a62-4ada-9d81-5ac32f964edb",
   "metadata": {},
   "outputs": [
    {
     "data": {
      "text/plain": [
       "dict_keys(['a', 'b', 'c', 'd'])"
      ]
     },
     "execution_count": 111,
     "metadata": {},
     "output_type": "execute_result"
    }
   ],
   "source": [
    "dict1.keys()"
   ]
  },
  {
   "cell_type": "code",
   "execution_count": 113,
   "id": "7b4e9367-9e51-4fc3-8a95-29cc8f231bb4",
   "metadata": {},
   "outputs": [
    {
     "data": {
      "text/plain": [
       "dict_values(['math', 'english', 'history', \"[67,'srk',(1, 2, 3),['rocket', 12, (3+6j), 'ram', (3+5j), [1, 2, (5+4j), 'sita'], 'human'],0.34,True]\"])"
      ]
     },
     "execution_count": 113,
     "metadata": {},
     "output_type": "execute_result"
    }
   ],
   "source": [
    "dict1.values()"
   ]
  },
  {
   "cell_type": "code",
   "execution_count": 112,
   "id": "4c6c12a4-ca0a-4633-a849-3a8d05bfbc06",
   "metadata": {},
   "outputs": [
    {
     "data": {
      "text/plain": [
       "dict_items([('a', 'math'), ('b', 'english'), ('c', 'history'), ('d', \"[67,'srk',(1, 2, 3),['rocket', 12, (3+6j), 'ram', (3+5j), [1, 2, (5+4j), 'sita'], 'human'],0.34,True]\")])"
      ]
     },
     "execution_count": 112,
     "metadata": {},
     "output_type": "execute_result"
    }
   ],
   "source": [
    "dict1.items()"
   ]
  },
  {
   "cell_type": "code",
   "execution_count": 115,
   "id": "673c47ae-340e-4a0e-8932-50ee47dbcf73",
   "metadata": {},
   "outputs": [
    {
     "data": {
      "text/plain": [
       "{'a': 'math',\n",
       " 'b': 'english',\n",
       " 'c': 'history',\n",
       " 'd': \"[67,'srk',(1, 2, 3),['rocket', 12, (3+6j), 'ram', (3+5j), [1, 2, (5+4j), 'sita'], 'human'],0.34,True]\"}"
      ]
     },
     "execution_count": 115,
     "metadata": {},
     "output_type": "execute_result"
    }
   ],
   "source": [
    "dict1"
   ]
  },
  {
   "cell_type": "code",
   "execution_count": 118,
   "id": "a8a93266-c626-42b0-9e59-707d3370e868",
   "metadata": {},
   "outputs": [],
   "source": [
    "dict2=list(dict1)"
   ]
  },
  {
   "cell_type": "code",
   "execution_count": 119,
   "id": "0f5e1dcf-d482-4ebe-973f-1ccf04a1295f",
   "metadata": {},
   "outputs": [
    {
     "data": {
      "text/plain": [
       "['a', 'b', 'c', 'd']"
      ]
     },
     "execution_count": 119,
     "metadata": {},
     "output_type": "execute_result"
    }
   ],
   "source": [
    "dict2"
   ]
  },
  {
   "cell_type": "code",
   "execution_count": null,
   "id": "a3ac7580-7f53-4825-82be-367f3b2c63b4",
   "metadata": {},
   "outputs": [],
   "source": []
  }
 ],
 "metadata": {
  "kernelspec": {
   "display_name": "Python 3 (ipykernel)",
   "language": "python",
   "name": "python3"
  },
  "language_info": {
   "codemirror_mode": {
    "name": "ipython",
    "version": 3
   },
   "file_extension": ".py",
   "mimetype": "text/x-python",
   "name": "python",
   "nbconvert_exporter": "python",
   "pygments_lexer": "ipython3",
   "version": "3.10.6"
  }
 },
 "nbformat": 4,
 "nbformat_minor": 5
}
